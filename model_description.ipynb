{
 "cells": [
  {
   "cell_type": "code",
   "execution_count": 2,
   "metadata": {},
   "outputs": [],
   "source": [
    "# 1.04.2024\n",
    "# добавлены первые описания блоков"
   ]
  },
  {
   "cell_type": "markdown",
   "metadata": {},
   "source": [
    "На картинке изображена структурная схема модели, которую планируется реализовать.\n",
    "\n",
    "- Желтым цветом отмечены блоки, функции для которых на данный момент прописаны.\n",
    "\n",
    "- Синим цветом отмечены блоки, над которыми либо ведется работа, либо они просто пропущены (тк не написан другой блок, без которого этот не может обойтись), но будут в финальной модели.\n",
    "\n",
    "- Красным цветом отмечены блоки, которые делать не планируется."
   ]
  },
  {
   "cell_type": "markdown",
   "metadata": {},
   "source": [
    "![Структурная схема модели](model_structure.png)"
   ]
  },
  {
   "cell_type": "markdown",
   "metadata": {},
   "source": [
    "Каждый блок этой диаграммы (или набор блоков) реализован как отдельная функция, преобразующая входной в нее массив.\n",
    "\n",
    "Основной управляющий файл `ofdm_modem.m` сохраняет данные с выхода каждого блока в txt файл. Поэтому можно смотреть как преобразуется сигнал от блока к блоку.\n",
    "\n",
    "На вход он принимает следующие параметры - порядок модулятора `M` (2,4,8,16,64...); длину фрейма `fr_len` (степень двойки); соотношение сигнал/шум на приемнике в децибелах `SNR_dB`; длину циклического префикса `cp_length`"
   ]
  },
  {
   "cell_type": "markdown",
   "metadata": {},
   "source": [
    "# Передатчик"
   ]
  },
  {
   "cell_type": "markdown",
   "metadata": {},
   "source": [
    "Включает все бллоки до передачи сигнала в канал"
   ]
  },
  {
   "cell_type": "markdown",
   "metadata": {},
   "source": [
    "## Блок Bits stream"
   ]
  },
  {
   "cell_type": "markdown",
   "metadata": {},
   "source": [
    "Генерирует случайную последовательность чисел от 0 до `M-1` длины такой же как длина фрейма. Используется функция `randi()`"
   ]
  },
  {
   "cell_type": "markdown",
   "metadata": {},
   "source": [
    "## Блок Modulator"
   ]
  },
  {
   "cell_type": "markdown",
   "metadata": {},
   "source": [
    "Переводит числовую последовательность в последовательность комплексных чисел из созвездия модулятора.\n",
    "Реализован функцией `generate_information_frame(message, M)`\n",
    "Внутри функции:\n",
    "- Если `M` равно 2, 4, 8 - то используется M-PSK модулятор, реализованный в функции `pskmod()`\n",
    "- Если `M` Больше или равно 16 - то используется QAM модулятор, реализованный в функции `qammod()`"
   ]
  },
  {
   "cell_type": "markdown",
   "metadata": {},
   "source": [
    "## Блок \"S/P -> IFFT -> P/S\""
   ]
  },
  {
   "cell_type": "markdown",
   "metadata": {},
   "source": [
    "Переводит сигнал из частотной во временную область.\n",
    "\n",
    "В модели реализован с помощью встроенной функции `IFFT`"
   ]
  },
  {
   "cell_type": "markdown",
   "metadata": {},
   "source": [
    "## Блок Add cyclic prefix"
   ]
  },
  {
   "cell_type": "markdown",
   "metadata": {},
   "source": [
    "Реализлован функцией `add_cyclic_prefix(frame_td, l)`\n",
    "Берет последние `l` символов из конца массива отсчетов `frame_td` сигнала во временной области и добавляет их в начало. Важно, чтоб `l` была меньше длины массива (обычно равна половине длины)."
   ]
  },
  {
   "cell_type": "markdown",
   "metadata": {},
   "source": [
    "![conv_feature](svertka.png)"
   ]
  },
  {
   "cell_type": "markdown",
   "metadata": {},
   "source": [
    "# Канал"
   ]
  },
  {
   "cell_type": "markdown",
   "metadata": {},
   "source": [
    "## Блок Channel"
   ]
  },
  {
   "cell_type": "markdown",
   "metadata": {},
   "source": [
    "В разработке"
   ]
  },
  {
   "cell_type": "markdown",
   "metadata": {},
   "source": [
    "## Блок AWGN"
   ]
  },
  {
   "cell_type": "markdown",
   "metadata": {},
   "source": [
    "Добавляет белый гауссовский шум к сигналу, прошедшему через канал. С помощью функции `awgn()`. Дисперсия этого шума определяется значением `SNR_dB`"
   ]
  },
  {
   "cell_type": "markdown",
   "metadata": {},
   "source": [
    "# Приемник"
   ]
  },
  {
   "cell_type": "markdown",
   "metadata": {},
   "source": [
    "## Блок Remove cyclic prefix"
   ]
  },
  {
   "cell_type": "markdown",
   "metadata": {},
   "source": [
    "Реализлован функцией `remove_cyclic_prefix(frame_td, l)`\n",
    "Удаляет первые `l` отсчетов из конца массива отсчетов `frame_td` сигнала во временной области на приемнике. Важно, чтоб `l` была меньше длины массива (обычно равна половине длины)."
   ]
  },
  {
   "cell_type": "markdown",
   "metadata": {},
   "source": [
    "## Блок \"S/P -> IFFT\""
   ]
  },
  {
   "cell_type": "markdown",
   "metadata": {},
   "source": [
    "Переводит сигнал из временной обратно в частотную область.\n",
    "\n",
    "В модели реализован с помощью встроенной функции `FFT`."
   ]
  },
  {
   "cell_type": "markdown",
   "metadata": {},
   "source": [
    "## Блок Remove pilot signals"
   ]
  },
  {
   "cell_type": "markdown",
   "metadata": {},
   "source": [
    "Еще не реализован. Должен будет отделять пилотные сигналы и отправлять их в эквалайзер для оценки канала."
   ]
  },
  {
   "cell_type": "markdown",
   "metadata": {},
   "source": [
    "## Блок Equalizer"
   ]
  },
  {
   "cell_type": "markdown",
   "metadata": {},
   "source": [
    "Еще не реализован. Должен будет делать оценку канала по пилотным сигналам, а также по этой оценке преобразовывать принятый информационный сигнал."
   ]
  },
  {
   "cell_type": "markdown",
   "metadata": {},
   "source": [
    "## Блок Demodulator"
   ]
  },
  {
   "cell_type": "markdown",
   "metadata": {},
   "source": [
    "Переводит последовательность комплексных чисел из созвездия модулятора в последовательность целых чисел (или бинарную последовательность)\n",
    "Реализован функцией `decode_frame(frame, M)`\n",
    "Внутри функции:\n",
    "- Если `M` равно 2, 4, 8 - то используется M-PSK демодулятор, реализованный в функции `pskdemod()` - значения всех параметров наследуются из блока <b>Modulator</b>\n",
    "- Если `M` Больше или равно 16 - то используется QAM демодулятор, реализованный в функции `qamdemod()` - значения всех параметров наследуются из блока <b>Modulator</b>"
   ]
  },
  {
   "cell_type": "markdown",
   "metadata": {},
   "source": [
    "## Блок EVM"
   ]
  },
  {
   "cell_type": "markdown",
   "metadata": {},
   "source": [
    "Считает метрику <b>Error Vector Magnitude</b> с помощью встренной функции `lteEVM` и с помощью моей функции `evaluate_evm()`. На вход обе принимают массив символов (еще не демодулированных) с приемника $S_n(\\text{Rx})$ и исходную модулированную последовательность с модулятора передатчика $S_n(\\text{Tx})$.\n",
    "\n",
    "Используется формула:\n",
    "\n",
    "$$\\text{EVM}=\\sqrt{\\dfrac{\\displaystyle{\\sum_{n=1}^N}\\big|S_n(\\text{Tx})-S_n(\\text{Rx})\\big|^2}{N\\cdot P_s(\\text{Tx})}}$$\n",
    "\n",
    "где $N$ - число символов в фрейме, $P_s(\\text{Tx}) = \\dfrac{1}{N}\\sum_{n=1}^N |S_n(\\text{Tx})|^2$ - средняя мощность источника"
   ]
  },
  {
   "cell_type": "markdown",
   "metadata": {},
   "source": [
    "## Блок Decoded bits stream -> BER"
   ]
  },
  {
   "cell_type": "markdown",
   "metadata": {},
   "source": [
    "Считает метрику <b>Uncoded BER</b> с помощью встренной функции `biterr` и с помощью моей функции `evaluate_ber()`. На вход обе принимают демодулированное сообщение с приемника и исходное сообщение с передатчика. Переводят полученные целые числа в последовательности бит. Считают суммарное количество неправильных бит и делят на общее количество принятых бит."
   ]
  }
 ],
 "metadata": {
  "kernelspec": {
   "display_name": "Python 3",
   "language": "python",
   "name": "python3"
  },
  "language_info": {
   "codemirror_mode": {
    "name": "ipython",
    "version": 3
   },
   "file_extension": ".py",
   "mimetype": "text/x-python",
   "name": "python",
   "nbconvert_exporter": "python",
   "pygments_lexer": "ipython3",
   "version": "3.12.0"
  }
 },
 "nbformat": 4,
 "nbformat_minor": 2
}
