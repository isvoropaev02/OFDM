{
 "cells": [
  {
   "cell_type": "code",
   "execution_count": null,
   "metadata": {},
   "outputs": [],
   "source": [
    "# 18.05.2024\n",
    "# обновлена схема, построены графики для пилотного сигнала\n",
    "\n",
    "import pandas as pd\n",
    "import numpy as np\n",
    "import matplotlib.pyplot as plt\n",
    "from scipy.fft import fft, ifft\n",
    "%matplotlib widget"
   ]
  },
  {
   "cell_type": "markdown",
   "metadata": {},
   "source": [
    "### Канал SIMO"
   ]
  },
  {
   "cell_type": "code",
   "execution_count": null,
   "metadata": {},
   "outputs": [],
   "source": [
    "h = pd.read_csv('..\\\\WLAN_std_channels\\\\WLAN_modelD.txt', sep=',', skiprows=[2],header=0, skipinitialspace=True)\n",
    "hE = pd.read_csv('..\\\\WLAN_std_channels\\\\WLAN_modelE.txt', sep=',', skiprows=[2],header=0, skipinitialspace=True)"
   ]
  },
  {
   "cell_type": "code",
   "execution_count": null,
   "metadata": {},
   "outputs": [],
   "source": [
    "h.head()"
   ]
  },
  {
   "cell_type": "code",
   "execution_count": null,
   "metadata": {},
   "outputs": [],
   "source": [
    "fig1 = plt.figure(figsize=(8,5))\n",
    "ax_1 = fig1.add_subplot(111)\n",
    "ax_1.stem(h['time_delay'], 10**(h['power_gain']/20), linefmt='C0-', markerfmt='ro', label='Model D')\n",
    "ax_1.stem(hE['time_delay'], 10**(hE['power_gain']/20), linefmt='C1-', markerfmt='go', label='Model E')\n",
    "ax_1.set_ylabel(r\"$|h(t)|$\")\n",
    "ax_1.set_xlabel(\"Time [ns]\")\n",
    "ax_1.grid()\n",
    "\n",
    "plt.show()"
   ]
  },
  {
   "cell_type": "code",
   "execution_count": null,
   "metadata": {},
   "outputs": [],
   "source": [
    "fig2 = plt.figure(figsize=(8,5))\n",
    "ax_1 = fig2.add_subplot(111)\n",
    "ax_1.plot(np.linspace(-10, 10, 64), np.abs(np.fft.fft(h11['re']+1j*h11['im'], n=64)), label=r'$H_{11}(f)$')\n",
    "ax_1.plot(np.linspace(-10, 10, 64), np.abs(np.fft.fft(h21['re']+1j*h21['im'], n=64)), label=r'$H_{21}(f)$')\n",
    "ax_1.plot([0, 0], [0.4, 2], '--r', label='One OFDM carrier')\n",
    "ax_1.plot([2*20/64, 2*20/64], [0.4, 2], '--r')\n",
    "ax_1.set_ylabel(r\"$|H(f)|$\")\n",
    "ax_1.set_xlabel(\"Frequency [MHz]\")\n",
    "ax_1.grid()\n",
    "ax_1.legend()\n",
    "\n",
    "plt.show()"
   ]
  }
 ],
 "metadata": {
  "kernelspec": {
   "display_name": "Python 3",
   "language": "python",
   "name": "python3"
  },
  "language_info": {
   "codemirror_mode": {
    "name": "ipython",
    "version": 3
   },
   "file_extension": ".py",
   "mimetype": "text/x-python",
   "name": "python",
   "nbconvert_exporter": "python",
   "pygments_lexer": "ipython3",
   "version": "3.12.0"
  }
 },
 "nbformat": 4,
 "nbformat_minor": 2
}
